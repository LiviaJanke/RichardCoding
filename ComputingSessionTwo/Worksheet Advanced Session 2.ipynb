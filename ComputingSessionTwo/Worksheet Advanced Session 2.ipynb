{
 "cells": [
  {
   "cell_type": "markdown",
   "metadata": {},
   "source": [
    "# Advanced Plotting"
   ]
  },
  {
   "cell_type": "markdown",
   "metadata": {},
   "source": [
    "### Note: If you have not completed the Advanced Notebook from Session 1, please do so before continuing."
   ]
  },
  {
   "cell_type": "markdown",
   "metadata": {},
   "source": [
    "Over the last two session, you have learned how to read data in, present that data in a variety of different formats. This method of data visualisation is known as exploratory data analysis, as we want to see visually what can be learned from the data before we do further mathematical analysis. To explore these concepts further, we will look at the well known data statistics data set, known as the Fisher Iris Data Set.\n",
    "\n",
    "The Fisher Iris Data Set are measurements of the lengths and widths of the petals and sepals for 3 different specis of iris. This dataset will allow us to explore and solidify the concepts you have been learning over the last two sessions while introducing some more advanced and powerful data plotting libraries.\n",
    "\n",
    "<div style=\"background-color: #00FF00\">\n",
    "    \n",
    "**Exercise - Open up the dataset \"Fisher_iris.csv\" (in the 'Data' folder) as a Pandas DataFrame. Use the .info() function to summarise the data and the .head() function to look at the headers and data contained within. Use the .unique function to determine the species of iris in this DataFrame** "
   ]
  },
  {
   "cell_type": "markdown",
   "metadata": {},
   "source": [
    "At the end of the last advanced sheet, we saw that we can filter our DataFrame to selectively plot the data contained within. Let's do it again with this DataFrame.\n",
    "<p>\n",
    "<div style=\"background-color: #00FF00\">\n",
    "\n",
    "**Exercise - Plot a histogram of the sepal_width for all 150 iris measurements. Now extract each species into a separate DataFrame and plot the sepal widths of each species on the same histogram to look at how this characteristic varies.**"
   ]
  },
  {
   "cell_type": "markdown",
   "metadata": {},
   "source": [
    "# Seaborn Statistical Plotting"
   ]
  },
  {
   "cell_type": "markdown",
   "metadata": {},
   "source": [
    "The package Seaborn provides an attractive way to produce statistical graphs in Python. Seaborn is used for plotting data for the following reasons:\n",
    "\n",
    "- It is built on top of the Matplotlib package and so contains all of its functionality.\n",
    "- It is designed to integrate well in Pandas DataFrames.\n",
    "\n",
    "We import seaborn in the following way:"
   ]
  },
  {
   "cell_type": "code",
   "execution_count": 8,
   "metadata": {},
   "outputs": [],
   "source": [
    "import seaborn as sns\n",
    "sns.set()"
   ]
  },
  {
   "cell_type": "markdown",
   "metadata": {},
   "source": [
    "The sns.set() command loads a predefined pallete for the plots that follow. Look into the documentation to explore the other setups that are available. Seaborn has an incredibly vast and complicated library of plotting functions and talking about all of them would be a whole course itself! We will however review some of the more relevant functions and apply them to our DataFrame. The first is the distribution plot, which is equivalent to a histogram."
   ]
  },
  {
   "cell_type": "code",
   "execution_count": 10,
   "metadata": {},
   "outputs": [
    {
     "name": "stderr",
     "output_type": "stream",
     "text": [
      "C:\\Users\\Test\\AppData\\Local\\Temp\\ipykernel_10244\\3536808390.py:3: UserWarning: \n",
      "\n",
      "`distplot` is a deprecated function and will be removed in seaborn v0.14.0.\n",
      "\n",
      "Please adapt your code to use either `displot` (a figure-level function with\n",
      "similar flexibility) or `histplot` (an axes-level function for histograms).\n",
      "\n",
      "For a guide to updating your code to use the new functions, please see\n",
      "https://gist.github.com/mwaskom/de44147ed2974457ad6372750bbe5751\n",
      "\n",
      "  sns.distplot(df['sepal_width'],kde=False)\n"
     ]
    },
    {
     "ename": "AttributeError",
     "evalue": "module 'seaborn' has no attribute 'plt'",
     "output_type": "error",
     "traceback": [
      "\u001b[1;31m---------------------------------------------------------------------------\u001b[0m",
      "\u001b[1;31mAttributeError\u001b[0m                            Traceback (most recent call last)",
      "Cell \u001b[1;32mIn[10], line 4\u001b[0m\n\u001b[0;32m      2\u001b[0m df\u001b[38;5;241m=\u001b[39mpd\u001b[38;5;241m.\u001b[39mread_csv(\u001b[38;5;124m'\u001b[39m\u001b[38;5;124mData/Fisher_iris.csv\u001b[39m\u001b[38;5;124m'\u001b[39m)\n\u001b[0;32m      3\u001b[0m sns\u001b[38;5;241m.\u001b[39mdistplot(df[\u001b[38;5;124m'\u001b[39m\u001b[38;5;124msepal_width\u001b[39m\u001b[38;5;124m'\u001b[39m],kde\u001b[38;5;241m=\u001b[39m\u001b[38;5;28;01mFalse\u001b[39;00m)\n\u001b[1;32m----> 4\u001b[0m sns\u001b[38;5;241m.\u001b[39mplt\u001b[38;5;241m.\u001b[39mshow()\n",
      "\u001b[1;31mAttributeError\u001b[0m: module 'seaborn' has no attribute 'plt'"
     ]
    },
    {
     "data": {
      "image/png": "[encoded data removed]",
      "text/plain": [
       "<Figure size 640x480 with 1 Axes>"
      ]
     },
     "metadata": {},
     "output_type": "display_data"
    }
   ],
   "source": [
    "import pandas as pd\n",
    "df=pd.read_csv('Data/Fisher_iris.csv')\n",
    "sns.distplot(df['sepal_width'],kde=False)\n",
    "sns.plt.show()"
   ]
  },
  {
   "cell_type": "markdown",
   "metadata": {},
   "source": [
    "Notice that we use the keyword arguement kde=False.\n",
    "\n",
    "<div style=\"background-color: #00FF00\">\n",
    "\n",
    "**Exercise - What happens if we set kde=True? Look at the documentation, what does the keyword represent? What other keywords are there?**"
   ]
  },
  {
   "cell_type": "markdown",
   "metadata": {},
   "source": [
    "<div style=\"background-color: #00FF00\">\n",
    "\n",
    "**Exercise - Using seaborn, plot each sepal_length of each species of iris as a histogram on the same axis.**"
   ]
  },
  {
   "cell_type": "code",
   "execution_count": null,
   "metadata": {
    "collapsed": true,
    "jupyter": {
     "outputs_hidden": true
    }
   },
   "outputs": [],
   "source": []
  },
  {
   "cell_type": "markdown",
   "metadata": {},
   "source": [
    "## Linear Regression Plots"
   ]
  },
  {
   "cell_type": "markdown",
   "metadata": {},
   "source": [
    "Before we move onto data visualisation techniques you may not have seen before, let's revisit line plots using seaborn. This is accomplished using the seaborn function lmplot. Let's look at how the the sepal length and sepal width vary with each other."
   ]
  },
  {
   "cell_type": "code",
   "execution_count": null,
   "metadata": {},
   "outputs": [],
   "source": [
    "sns.lmplot(x='sepal_length',y='sepal_width',data=df,fit_reg=False)\n",
    "sns.plt.show()"
   ]
  },
  {
   "cell_type": "markdown",
   "metadata": {},
   "source": [
    "Look at how we have called the function, we have given it the header titles in the x & y keywords and the DataFrame within the data keyword. We have also specified the keyword fit_reg=False as by default lmplot will attempt to fit a line to the data.\n",
    "<p>\n",
    "<div style=\"background-color: #00FF00\">\n",
    "\n",
    "**Exercise - Create a scatter plot of the sepal_length and width with fit_reg=True. What does the line look like?**"
   ]
  },
  {
   "cell_type": "code",
   "execution_count": null,
   "metadata": {
    "collapsed": true,
    "jupyter": {
     "outputs_hidden": true
    }
   },
   "outputs": [],
   "source": []
  },
  {
   "cell_type": "markdown",
   "metadata": {},
   "source": [
    "The fit of the above data is very poor due to the spread of the points. However this data consists of 3 different Iris types, each of which may contain their own trends. Being able to look at these types separately is one of the major strengths of Pandas! To do this, we can specify the hue keyword in lmplot. This tells seaborn to group each line according to the value of hue, which in this case is the species column of the DataFrame.\n",
    "<p>\n",
    "<div style=\"background-color: #00FF00\">\n",
    "\n",
    "**Exercise - Create a scatter plot of the sepal_length and width this time with the keyword hue='species'.**"
   ]
  },
  {
   "cell_type": "code",
   "execution_count": null,
   "metadata": {
    "collapsed": true,
    "jupyter": {
     "outputs_hidden": true
    }
   },
   "outputs": [],
   "source": []
  },
  {
   "cell_type": "markdown",
   "metadata": {},
   "source": [
    "**NOTE**\n",
    "\n",
    "It is tempting to use lmplot for all your regression fits, as it is produced as standard. There is however one substantial drawback to this approach: It does not tell you the functional form of your fit! Not knowing the slope or the intercept of your fit limits the usefulness of this approach and should only be used for graphically showing trends. If you need any further information then you should stick to fitting your data using scipy!"
   ]
  },
  {
   "cell_type": "markdown",
   "metadata": {},
   "source": [
    "# Boxplot, violin and Swarm Plots\n",
    "\n",
    "While histograms are useful for visualising the distribution of data, there are times when we want a succint summary of what the data is trying to represent. We can do this numerically or graphically. To get some basic numerical statistics of the data, we can use the .describe() function on our data as follows:"
   ]
  },
  {
   "cell_type": "code",
   "execution_count": null,
   "metadata": {},
   "outputs": [],
   "source": [
    "df.describe()"
   ]
  },
  {
   "cell_type": "markdown",
   "metadata": {},
   "source": [
    "The table gives us a top level summary of the data through numbers such as the mean and standard deviation. It also gives us various percentiles of data, which tells us about the range of the data when combined with the min. For example look at the min and 25% percentile for the sepal_length, this tells us 25% of the data lies between 4.3 and 5.1. The 50% percentile tells us the median value of the dataset, i.e. the middle value.\n",
    "\n",
    "While the numerical statistics are valuable, it doesn't tell the whole story as it has summarised 150 data points by only a handful of numbers. There are various ways to graphically respresent the data that are both informative and aesthetically pleasing. The first of these is the box plot, which graphically summarises the statistics shown in the above table."
   ]
  },
  {
   "cell_type": "code",
   "execution_count": null,
   "metadata": {},
   "outputs": [],
   "source": [
    "sns.boxplot(x=df['sepal_length'])\n",
    "sns.plt.show()"
   ]
  },
  {
   "cell_type": "markdown",
   "metadata": {},
   "source": [
    "Comparing the boxplot to the first column of the table we can see that all of the main statistical information has been imbedded into the graph.\n",
    "<p>\n",
    "<div style=\"background-color: #00FF00\">\n",
    "\n",
    "**Exercise - Reproduce the above boxplot for the sepal width and compare this to the statistics table.**"
   ]
  },
  {
   "cell_type": "markdown",
   "metadata": {},
   "source": [
    "While a boxplot was good for graphically summarising the major statistics, one part of information that was lost was the number density of points that was represented by a histogram. To look at the distribution of points we use the swarmplot function, which plots all of the data points: "
   ]
  },
  {
   "cell_type": "code",
   "execution_count": null,
   "metadata": {},
   "outputs": [],
   "source": [
    "sns.swarmplot(x=df['sepal_length'])\n",
    "sns.plt.show()"
   ]
  },
  {
   "cell_type": "markdown",
   "metadata": {},
   "source": [
    "<div style=\"background-color: #00FF00\">\n",
    "\n",
    "**Exercise - Produce a swarm plot for the sepal_width**"
   ]
  },
  {
   "cell_type": "markdown",
   "metadata": {},
   "source": [
    "One final type is plot we want to look at this the violinplot. This attempts to combine aspects of a boxplot and a swarmplot by showing important statistical quantities while still representing the number density of data points."
   ]
  },
  {
   "cell_type": "code",
   "execution_count": null,
   "metadata": {},
   "outputs": [],
   "source": [
    "sns.violinplot(x=df['sepal_length'],inner='quartile')\n",
    "sns.plt.show()"
   ]
  },
  {
   "cell_type": "markdown",
   "metadata": {},
   "source": [
    "<div style=\"background-color: #00FF00\">\n",
    "\n",
    "**Exercise - Produce a voilin plot for the sepal_width**"
   ]
  },
  {
   "cell_type": "markdown",
   "metadata": {},
   "source": [
    "Like the regression plots in the previoues section, each of these plots can be separated into iris species, this time by specifying the species as the x-axis as follows:"
   ]
  },
  {
   "cell_type": "code",
   "execution_count": null,
   "metadata": {},
   "outputs": [],
   "source": [
    "sns.boxplot(x='species',y='sepal_length',data=df)\n",
    "sns.plt.show()"
   ]
  },
  {
   "cell_type": "markdown",
   "metadata": {},
   "source": [
    "<div style=\"background-color: #00FF00\">\n",
    "\n",
    "**Exercise - Create a swarm and violin plot of the sepal_length for each species on the same graph.**"
   ]
  },
  {
   "cell_type": "markdown",
   "metadata": {},
   "source": [
    "# Visualisation of 2D data"
   ]
  },
  {
   "cell_type": "markdown",
   "metadata": {},
   "source": [
    "For most of this worksheet, we have concerned ourself with the variation of a single variable (with the exception of regression plots). At scientists we want to see how sets of data together to look for trends or correlations; this is known as multivariate analysis. We will look at a few different ways to present multivariate data. The first way is through the jointplot function, which combines a scatter plot with a histogram of the data along both axes.\n",
    "\n",
    "For this section, we are focussing on the 'setosa' species only."
   ]
  },
  {
   "cell_type": "code",
   "execution_count": null,
   "metadata": {},
   "outputs": [],
   "source": [
    "df_seto = df[df['species'] == 'setosa']\n",
    "sns.jointplot(x='petal_length',y='petal_width',data=df_seto)\n",
    "sns.plt.show()"
   ]
  },
  {
   "cell_type": "markdown",
   "metadata": {},
   "source": [
    "Also produced in these plots are statistical summaries: the pearson r-value and the p value. To learn about the meaning to these values, google them."
   ]
  },
  {
   "cell_type": "markdown",
   "metadata": {},
   "source": [
    "<div style=\"background-color: #00FF00\">\n",
    "\n",
    "**Exercise - Create a joint plot which plots the sepal_length and sepal_width.**"
   ]
  },
  {
   "cell_type": "markdown",
   "metadata": {},
   "source": [
    "Instead of plotting individual points, you can instead plot a density of points by using the kind='hex' arguement. This is also known a hexplot."
   ]
  },
  {
   "cell_type": "code",
   "execution_count": null,
   "metadata": {},
   "outputs": [],
   "source": [
    "sns.jointplot(x='petal_length',y='petal_width',data=df_seto,kind='hex')\n",
    "sns.plt.show()"
   ]
  },
  {
   "cell_type": "markdown",
   "metadata": {},
   "source": [
    "<div style=\"background-color: #00FF00\">\n",
    "\n",
    "**Exercise - Create a hex plot which plots the sepal_length and sepal_width.**"
   ]
  },
  {
   "cell_type": "markdown",
   "metadata": {},
   "source": [
    "The final plot we will look at is the pairplot, which allows a summary of an artibrary number of data columns."
   ]
  },
  {
   "cell_type": "code",
   "execution_count": null,
   "metadata": {},
   "outputs": [],
   "source": [
    "sns.pairplot(data=df_seto)\n",
    "sns.plt.show()"
   ]
  },
  {
   "cell_type": "markdown",
   "metadata": {},
   "source": [
    "For each data column in the data, the pairplot function shows how the data varies compared to each other data column (including itself which creates a histogram)."
   ]
  },
  {
   "cell_type": "markdown",
   "metadata": {},
   "source": [
    "<div style=\"background-color: #00FF00\">\n",
    "\n",
    "**Exercise - Create a pairplot using the original DataFrame. Can you explain any differences you see between your pairplot and the pairplot of the setosa species only?**"
   ]
  },
  {
   "cell_type": "code",
   "execution_count": null,
   "metadata": {
    "collapsed": true,
    "jupyter": {
     "outputs_hidden": true
    }
   },
   "outputs": [],
   "source": []
  }
 ],
 "metadata": {
  "kernelspec": {
   "display_name": "Python [conda env:base] *",
   "language": "python",
   "name": "conda-base-py"
  },
  "language_info": {
   "codemirror_mode": {
    "name": "ipython",
    "version": 3
   },
   "file_extension": ".py",
   "mimetype": "text/x-python",
   "name": "python",
   "nbconvert_exporter": "python",
   "pygments_lexer": "ipython3",
   "version": "3.12.7"
  }
 },
 "nbformat": 4,
 "nbformat_minor": 4
}
